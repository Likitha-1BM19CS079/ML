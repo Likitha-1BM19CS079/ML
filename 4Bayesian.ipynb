{
  "nbformat": 4,
  "nbformat_minor": 0,
  "metadata": {
    "colab": {
      "provenance": [],
      "authorship_tag": "ABX9TyME1aIyzjeHkSPsKRvJmt0y",
      "include_colab_link": true
    },
    "kernelspec": {
      "name": "python3",
      "display_name": "Python 3"
    },
    "language_info": {
      "name": "python"
    }
  },
  "cells": [
    {
      "cell_type": "markdown",
      "metadata": {
        "id": "view-in-github",
        "colab_type": "text"
      },
      "source": [
        "<a href=\"https://colab.research.google.com/github/Anushree-15-lab/ML-LAB/blob/main/4Bayesian.ipynb\" target=\"_parent\"><img src=\"https://colab.research.google.com/assets/colab-badge.svg\" alt=\"Open In Colab\"/></a>"
      ]
    },
    {
      "cell_type": "code",
      "execution_count": 1,
      "metadata": {
        "id": "fdzE--al79nI"
      },
      "outputs": [],
      "source": [
        "import pandas as pd\n",
        "from sklearn.model_selection import train_test_split\n",
        "from sklearn.naive_bayes import GaussianNB\n",
        "from sklearn import metrics"
      ]
    },
    {
      "cell_type": "markdown",
      "source": [
        "# New Section"
      ],
      "metadata": {
        "id": "XAvcTb2UCr2V"
      }
    },
    {
      "cell_type": "code",
      "source": [
        "df = pd.read_csv(\"4.csv\")\n",
        "feature_col_names = ['num_preg', 'glucose_conc', 'diastolic_bp', 'thickness', 'insulin', 'bmi', 'diab_pred', 'age']\n",
        "predicted_class_names = ['diabetes']"
      ],
      "metadata": {
        "id": "rFrtJqoNIZme"
      },
      "execution_count": 14,
      "outputs": []
    },
    {
      "cell_type": "code",
      "source": [
        "X = df[feature_col_names].values \n",
        "y = df[predicted_class_names].values"
      ],
      "metadata": {
        "id": "xJ0mH-tKIH-i"
      },
      "execution_count": 15,
      "outputs": []
    },
    {
      "cell_type": "code",
      "source": [
        "print(df.head)\n",
        "xtrain,xtest,ytrain,ytest=train_test_split(X,y,test_size=0.33)\n",
        "\n",
        "print ('\\n the total number of Training Data :',ytrain.shape)\n",
        "print ('\\n the total number of Test Data :',ytest.shape)"
      ],
      "metadata": {
        "colab": {
          "base_uri": "https://localhost:8080/"
        },
        "id": "wTyrXjyfIrIX",
        "outputId": "566e44fa-e569-4bea-eb74-a90a49964453"
      },
      "execution_count": 16,
      "outputs": [
        {
          "output_type": "stream",
          "name": "stdout",
          "text": [
            "<bound method NDFrame.head of      num_preg  glucose_conc  diastolic_bp  thickness  insulin   bmi  \\\n",
            "0           6           148            72         35        0  33.6   \n",
            "1           1            85            66         29        0  26.6   \n",
            "2           8           183            64          0        0  23.3   \n",
            "3           1            89            66         23       94  28.1   \n",
            "4           0           137            40         35      168  43.1   \n",
            "..        ...           ...           ...        ...      ...   ...   \n",
            "763        10           101            76         48      180  32.9   \n",
            "764         2           122            70         27        0  36.8   \n",
            "765         5           121            72         23      112  26.2   \n",
            "766         1           126            60          0        0  30.1   \n",
            "767         1            93            70         31        0  30.4   \n",
            "\n",
            "     diab_pred  age  diabetes  \n",
            "0        0.627   50         1  \n",
            "1        0.351   31         0  \n",
            "2        0.672   32         1  \n",
            "3        0.167   21         0  \n",
            "4        2.288   33         1  \n",
            "..         ...  ...       ...  \n",
            "763      0.171   63         0  \n",
            "764      0.340   27         0  \n",
            "765      0.245   30         0  \n",
            "766      0.349   47         1  \n",
            "767      0.315   23         0  \n",
            "\n",
            "[768 rows x 9 columns]>\n",
            "\n",
            " the total number of Training Data : (514, 1)\n",
            "\n",
            " the total number of Test Data : (254, 1)\n"
          ]
        }
      ]
    },
    {
      "cell_type": "code",
      "source": [],
      "metadata": {
        "id": "ikMa2_KBIt5W"
      },
      "execution_count": null,
      "outputs": []
    }
  ]
}